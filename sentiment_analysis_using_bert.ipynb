{
  "nbformat": 4,
  "nbformat_minor": 0,
  "metadata": {
    "colab": {
      "name": "sentiment_analysis_using_bert.ipynb",
      "provenance": [],
      "collapsed_sections": [],
      "include_colab_link": true
    },
    "kernelspec": {
      "name": "python3",
      "display_name": "Python 3"
    },
    "accelerator": "GPU"
  },
  "cells": [
    {
      "cell_type": "markdown",
      "metadata": {
        "id": "view-in-github",
        "colab_type": "text"
      },
      "source": [
        "<a href=\"https://colab.research.google.com/github/PadamSharma/Sentiment-Analysis-using-BERT/blob/main/sentiment_analysis_using_bert.ipynb\" target=\"_parent\"><img src=\"https://colab.research.google.com/assets/colab-badge.svg\" alt=\"Open In Colab\"/></a>"
      ]
    },
    {
      "cell_type": "code",
      "metadata": {
        "id": "18dR2jPRDelO"
      },
      "source": [
        "# creating folders to ease formation of text dataset\n",
        "!mkdir global\n",
        "!mkdir /content/global/train\n",
        "!mkdir /content/global/dev.gold\n",
        "!mkdir /content/global/train/0\n",
        "!mkdir /content/global/train/1\n",
        "!mkdir /content/global/train/2\n",
        "!mkdir /content/global/train/3\n",
        "!mkdir /content/global/train/4\n",
        "!mkdir /content/global/dev.gold/0\n",
        "!mkdir /content/global/dev.gold/1\n",
        "!mkdir /content/global/dev.gold/2\n",
        "!mkdir /content/global/dev.gold/3\n",
        "!mkdir /content/global/dev.gold/4"
      ],
      "execution_count": 2,
      "outputs": []
    },
    {
      "cell_type": "code",
      "metadata": {
        "id": "df5biljwREel"
      },
      "source": [
        "#training set\n",
        "!wget http://saifmohammad.com/WebDocs/EmoInt%20Train%20Data/anger-ratings-0to1.train.txt\n",
        "!wget http://saifmohammad.com/WebDocs/EmoInt%20Train%20Data/fear-ratings-0to1.train.txt\n",
        "!wget http://saifmohammad.com/WebDocs/EmoInt%20Train%20Data/joy-ratings-0to1.train.txt\n",
        "!wget http://saifmohammad.com/WebDocs/EmoInt%20Train%20Data/sadness-ratings-0to1.train.txt\n",
        "\n",
        "#validation set\n",
        "!wget http://saifmohammad.com/WebDocs/EmoInt%20Dev%20Data%20With%20Gold/anger-ratings-0to1.dev.gold.txt\n",
        "!wget http://saifmohammad.com/WebDocs/EmoInt%20Dev%20Data%20With%20Gold/fear-ratings-0to1.dev.gold.txt\n",
        "!wget http://saifmohammad.com/WebDocs/EmoInt%20Dev%20Data%20With%20Gold/joy-ratings-0to1.dev.gold.txt\n",
        "!wget http://saifmohammad.com/WebDocs/EmoInt%20Dev%20Data%20With%20Gold/sadness-ratings-0to1.dev.gold.txt"
      ],
      "execution_count": null,
      "outputs": []
    },
    {
      "cell_type": "code",
      "metadata": {
        "id": "v1poyAduhyic"
      },
      "source": [
        "emotion_list = ['anger','fear','joy','sadness']\n",
        "label_dict = {'neutral': '0', 'anger': '1', 'fear': '2', 'joy': '3', 'sadness': '4'}\n",
        "class_names = {0: 'neutral', 1: 'anger',2: 'fear',3: 'joy',4: 'sadness'}\n",
        "data_list = ['train','dev.gold']"
      ],
      "execution_count": 32,
      "outputs": []
    },
    {
      "cell_type": "code",
      "metadata": {
        "id": "L1c1QgM5Ea_J"
      },
      "source": [
        "# creating .txt files in respective folders\n",
        "count = 0\n",
        "for data in data_list:\n",
        "  for emotion in emotion_list:\n",
        "    File = open('/content/'+emotion+'-ratings-0to1.'+data+'.txt', 'r') \n",
        "    lines = File.readlines() \n",
        "    for line in lines: \n",
        "      line=line.strip()\n",
        "      l=line.split(\"\\t\")\n",
        "      del(l[0])\n",
        "      del(l[1])\n",
        "      if(float(l[1])>(0.35)):\n",
        "        f=open('/content/global/'+data+'/'+label_dict[emotion]+'/'+str(count)+'.txt',\"w\")\n",
        "        f.write(l[0])\n",
        "        f.close()\n",
        "      else:\n",
        "        f=open('/content/global/'+data+'/0/'+str(count)+'.txt',\"w\")\n",
        "        f.write(l[0])\n",
        "        f.close()    \n",
        "      count+=1"
      ],
      "execution_count": 8,
      "outputs": []
    },
    {
      "cell_type": "code",
      "metadata": {
        "id": "DOkNjon53XG9"
      },
      "source": [
        "!pip install -q -U tensorflow-text\n",
        "!pip install -q -U tf-models-official\n",
        "!pip install -U tfds-nightly\n",
        "\n",
        "import os\n",
        "os.environ[\"TFHUB_MODEL_LOAD_FORMAT\"]=\"UNCOMPRESSED\""
      ],
      "execution_count": null,
      "outputs": []
    },
    {
      "cell_type": "code",
      "metadata": {
        "id": "UsMKGRYKCk5f"
      },
      "source": [
        "# importing necessary libraries\n",
        "import tensorflow as tf\n",
        "import tensorflow_hub as hub\n",
        "import tensorflow_datasets as tfds\n",
        "import tensorflow_text as text\n",
        "import tensorflow_addons as tfa\n",
        "from official.nlp import optimization\n",
        "import numpy as np\n",
        "\n",
        "tf.get_logger().setLevel('ERROR')"
      ],
      "execution_count": 10,
      "outputs": []
    },
    {
      "cell_type": "code",
      "metadata": {
        "colab": {
          "base_uri": "https://localhost:8080/"
        },
        "id": "2cABGtHrrV_L",
        "outputId": "292883f7-7e5e-4035-83ba-6f3a72958cf2"
      },
      "source": [
        "# converting text files to tf dataset\n",
        "AUTOTUNE = tf.data.AUTOTUNE\n",
        "batch_size = 16 * 1\n",
        "seed = 42\n",
        "\n",
        "raw_train_ds = tf.keras.preprocessing.text_dataset_from_directory(\n",
        "    '/content/global/train',\n",
        "    batch_size=batch_size,\n",
        "    seed=seed)\n",
        "\n",
        "class_names = raw_train_ds.class_names\n",
        "train_ds = raw_train_ds.cache().prefetch(buffer_size=AUTOTUNE)\n",
        "\n",
        "val_ds = tf.keras.preprocessing.text_dataset_from_directory(\n",
        "    '/content/global/dev.gold',\n",
        "    batch_size=batch_size,\n",
        "    seed=seed)\n",
        "\n",
        "val_ds = val_ds.cache().prefetch(buffer_size=AUTOTUNE)\n"
      ],
      "execution_count": 11,
      "outputs": [
        {
          "output_type": "stream",
          "text": [
            "Found 3613 files belonging to 5 classes.\n",
            "Found 347 files belonging to 5 classes.\n"
          ],
          "name": "stdout"
        }
      ]
    },
    {
      "cell_type": "code",
      "metadata": {
        "colab": {
          "base_uri": "https://localhost:8080/"
        },
        "id": "qKEIjwDatssT",
        "outputId": "e6f6e5cb-e51f-42f1-f509-25b5db883e2c"
      },
      "source": [
        "for text_batch, label_batch in train_ds.take(1):\n",
        "  for i in range(6):\n",
        "    print(f'Review: {text_batch.numpy()[i]}')\n",
        "    label = label_batch.numpy()[i]\n",
        "    print(f'Label : {class_names[label]}')"
      ],
      "execution_count": 33,
      "outputs": [
        {
          "output_type": "stream",
          "text": [
            "Review: b'Bloods boiling'\n",
            "Label : anger\n",
            "Review: b\"@LickMeLucas ...I'm waiting for you to figure out I'm like... from 0 to 100 real quick with the irritation.\"\n",
            "Label : anger\n",
            "Review: b'i cant stop. i finished - dejected. luckily no one is in the bathroom. so i go to a stall and wait until my pants are dry.'\n",
            "Label : sadness\n",
            "Review: b'@OC_Transpo some weeks there are no problems but this week is unbelievable -- are you guys even running regular 12 buses? #awful #solate'\n",
            "Label : fear\n",
            "Review: b'#COINCIDENCE??? When you turn on the TV, etc.&amp; listen &amp; watch, the objective is to #CaptureYourMind with #fear &amp; #depression. #FindGODNow!!!'\n",
            "Label : fear\n",
            "Review: b'My soul is weary of fighting the battles in this world. #BlackInAmerica #WeAreNotSafe'\n",
            "Label : sadness\n"
          ],
          "name": "stdout"
        }
      ]
    },
    {
      "cell_type": "code",
      "metadata": {
        "colab": {
          "base_uri": "https://localhost:8080/"
        },
        "id": "llDb6kh4Cyzp",
        "outputId": "452f2bac-22d1-48bd-bcc5-1192947ed913"
      },
      "source": [
        "# selecting the required BERT model\n",
        "bert_model_name = 'bert_en_uncased_L-12_H-768_A-12'\n",
        "\n",
        "map_name_to_handle = {\n",
        "    'bert_en_uncased_L-12_H-768_A-12':\n",
        "        'https://tfhub.dev/tensorflow/bert_en_uncased_L-12_H-768_A-12/3'\n",
        "}\n",
        "\n",
        "map_model_to_preprocess = {\n",
        "    'bert_en_uncased_L-12_H-768_A-12':\n",
        "        'https://tfhub.dev/tensorflow/bert_en_uncased_preprocess/3',\n",
        "}\n",
        "\n",
        "tfhub_handle_encoder = map_name_to_handle[bert_model_name]\n",
        "tfhub_handle_preprocess = map_model_to_preprocess[bert_model_name]\n",
        "\n",
        "print(f'BERT model selected           : {tfhub_handle_encoder}')\n",
        "print(f'Preprocessing model auto-selected: {tfhub_handle_preprocess}')\n",
        "\n",
        "bert_preprocess_model = hub.KerasLayer(tfhub_handle_preprocess)\n",
        "bert_model = hub.KerasLayer(tfhub_handle_encoder)"
      ],
      "execution_count": 13,
      "outputs": [
        {
          "output_type": "stream",
          "text": [
            "BERT model selected           : https://tfhub.dev/tensorflow/bert_en_uncased_L-12_H-768_A-12/3\n",
            "Preprocessing model auto-selected: https://tfhub.dev/tensorflow/bert_en_uncased_preprocess/3\n"
          ],
          "name": "stdout"
        }
      ]
    },
    {
      "cell_type": "code",
      "metadata": {
        "id": "FnjzKP2Xu8qu"
      },
      "source": [
        "def build_classifier_model():\n",
        "  text_input = tf.keras.layers.Input(shape=(), dtype=tf.string, name='text')\n",
        "  preprocessing_layer = hub.KerasLayer(tfhub_handle_preprocess, name='preprocessing')\n",
        "  encoder_inputs = preprocessing_layer(text_input)\n",
        "  encoder = hub.KerasLayer(tfhub_handle_encoder, trainable=True, name='BERT_encoder')\n",
        "  outputs = encoder(encoder_inputs)\n",
        "  net = outputs['pooled_output']\n",
        "  net = tf.keras.layers.Dropout(0.1)(net)\n",
        "  net = tf.keras.layers.Dense(5, activation='softmax', name='classifier')(net)\n",
        "  return tf.keras.Model(text_input, net)\n"
      ],
      "execution_count": 18,
      "outputs": []
    },
    {
      "cell_type": "code",
      "metadata": {
        "colab": {
          "base_uri": "https://localhost:8080/",
          "height": 466
        },
        "id": "VoSa4PK_vCO6",
        "outputId": "ffe877fe-d15b-4692-fb99-2651f47d1d5f"
      },
      "source": [
        "# building and plotting the model\n",
        "classifier_model = build_classifier_model()\n",
        "tf.keras.utils.plot_model(classifier_model)"
      ],
      "execution_count": 19,
      "outputs": [
        {
          "output_type": "execute_result",
          "data": {
            "image/png": "[encoded data removed]",
            "text/plain": [
              "<IPython.core.display.Image object>"
            ]
          },
          "metadata": {
            "tags": []
          },
          "execution_count": 19
        }
      ]
    },
    {
      "cell_type": "code",
      "metadata": {
        "id": "zqyUZT1evGTW"
      },
      "source": [
        "# specifying loss and metrics \n",
        "loss = tf.keras.losses.SparseCategoricalCrossentropy(from_logits=True)\n",
        "metrics = tf.metrics.SparseCategoricalAccuracy()"
      ],
      "execution_count": 20,
      "outputs": []
    },
    {
      "cell_type": "code",
      "metadata": {
        "id": "nAnv35gMvZNM"
      },
      "source": [
        "epochs = 8\n",
        "steps_per_epoch = tf.data.experimental.cardinality(train_ds).numpy()\n",
        "num_train_steps = steps_per_epoch * epochs\n",
        "num_warmup_steps = int(0.1*num_train_steps)\n",
        "\n",
        "init_lr = 3e-5\n",
        "optimizer = optimization.create_optimizer(init_lr=init_lr,\n",
        "                                          num_train_steps=num_train_steps,\n",
        "                                          num_warmup_steps=num_warmup_steps,\n",
        "                                          optimizer_type='adamw')\n"
      ],
      "execution_count": 21,
      "outputs": []
    },
    {
      "cell_type": "code",
      "metadata": {
        "id": "TDFFPg5Mvc01"
      },
      "source": [
        "classifier_model.compile(optimizer=optimizer,\n",
        "                         loss=loss,\n",
        "                         metrics=metrics)\n"
      ],
      "execution_count": 22,
      "outputs": []
    },
    {
      "cell_type": "code",
      "metadata": {
        "colab": {
          "base_uri": "https://localhost:8080/"
        },
        "id": "lHroeBh9vi_A",
        "outputId": "6c47817c-e293-4c7e-ec2f-c7bf178b5b54"
      },
      "source": [
        "print(f'Training model with {tfhub_handle_encoder}')\n",
        "\n",
        "history = classifier_model.fit(x=train_ds,\n",
        "                               validation_data=val_ds,\n",
        "                               epochs=epochs)\n"
      ],
      "execution_count": 23,
      "outputs": [
        {
          "output_type": "stream",
          "text": [
            "Training model with https://tfhub.dev/tensorflow/bert_en_uncased_L-12_H-768_A-12/3\n",
            "Epoch 1/8\n",
            "226/226 [==============================] - 126s 495ms/step - loss: 1.6348 - sparse_categorical_accuracy: 0.2881 - val_loss: 0.8410 - val_sparse_categorical_accuracy: 0.6599\n",
            "Epoch 2/8\n",
            "226/226 [==============================] - 111s 490ms/step - loss: 0.8174 - sparse_categorical_accuracy: 0.6853 - val_loss: 0.8261 - val_sparse_categorical_accuracy: 0.6859\n",
            "Epoch 3/8\n",
            "226/226 [==============================] - 111s 491ms/step - loss: 0.4961 - sparse_categorical_accuracy: 0.8114 - val_loss: 0.9800 - val_sparse_categorical_accuracy: 0.6801\n",
            "Epoch 4/8\n",
            "226/226 [==============================] - 111s 491ms/step - loss: 0.2851 - sparse_categorical_accuracy: 0.9050 - val_loss: 1.1314 - val_sparse_categorical_accuracy: 0.7147\n",
            "Epoch 5/8\n",
            "226/226 [==============================] - 111s 490ms/step - loss: 0.1721 - sparse_categorical_accuracy: 0.9392 - val_loss: 1.3654 - val_sparse_categorical_accuracy: 0.6888\n",
            "Epoch 6/8\n",
            "226/226 [==============================] - 111s 491ms/step - loss: 0.1395 - sparse_categorical_accuracy: 0.9550 - val_loss: 1.4347 - val_sparse_categorical_accuracy: 0.7118\n",
            "Epoch 7/8\n",
            "226/226 [==============================] - 111s 492ms/step - loss: 0.0830 - sparse_categorical_accuracy: 0.9739 - val_loss: 1.5708 - val_sparse_categorical_accuracy: 0.7176\n",
            "Epoch 8/8\n",
            "226/226 [==============================] - 111s 493ms/step - loss: 0.0743 - sparse_categorical_accuracy: 0.9765 - val_loss: 1.5714 - val_sparse_categorical_accuracy: 0.7118\n"
          ],
          "name": "stdout"
        }
      ]
    },
    {
      "cell_type": "code",
      "metadata": {
        "id": "OihaXdz8vtBv",
        "colab": {
          "base_uri": "https://localhost:8080/",
          "height": 439
        },
        "outputId": "754b9f3d-23ff-4521-a45d-567eefb5d6c3"
      },
      "source": [
        "import matplotlib.pyplot as plt\n",
        "\n",
        "history_dict = history.history\n",
        "print(history_dict.keys())\n",
        "\n",
        "acc = history_dict['sparse_categorical_accuracy']\n",
        "val_acc = history_dict['val_sparse_categorical_accuracy']\n",
        "loss = history_dict['loss']\n",
        "val_loss = history_dict['val_loss']\n",
        "\n",
        "epochs = range(1, len(acc) + 1)\n",
        "fig = plt.figure(figsize=(10, 6))\n",
        "fig.tight_layout()\n",
        "\n",
        "plt.subplot(2, 1, 1)\n",
        "# \"bo\" is for \"blue dot\"\n",
        "plt.plot(epochs, loss, 'r', label='Training loss')\n",
        "# b is for \"solid blue line\"\n",
        "plt.plot(epochs, val_loss, 'b', label='Validation loss')\n",
        "plt.title('Training and validation loss')\n",
        "# plt.xlabel('Epochs')\n",
        "plt.ylabel('Loss')\n",
        "plt.legend()\n",
        "\n",
        "plt.subplot(2, 1, 2)\n",
        "plt.plot(epochs, acc, 'r', label='Training acc')\n",
        "plt.plot(epochs, val_acc, 'b', label='Validation acc')\n",
        "plt.title('Training and validation accuracy')\n",
        "plt.xlabel('Epochs')\n",
        "plt.ylabel('Accuracy')\n",
        "plt.legend(loc='lower right')\n"
      ],
      "execution_count": 24,
      "outputs": [
        {
          "output_type": "stream",
          "text": [
            "dict_keys(['loss', 'sparse_categorical_accuracy', 'val_loss', 'val_sparse_categorical_accuracy'])\n"
          ],
          "name": "stdout"
        },
        {
          "output_type": "execute_result",
          "data": {
            "text/plain": [
              "<matplotlib.legend.Legend at 0x7f2bebf1a908>"
            ]
          },
          "metadata": {
            "tags": []
          },
          "execution_count": 24
        },
        {
          "output_type": "display_data",
          "data": {
            "image/png": "[encoded data removed]",
            "text/plain": [
              "<Figure size 720x432 with 2 Axes>"
            ]
          },
          "metadata": {
            "tags": [],
            "needs_background": "light"
          }
        }
      ]
    },
    {
      "cell_type": "code",
      "metadata": {
        "id": "u79A7X9by4kK",
        "colab": {
          "base_uri": "https://localhost:8080/"
        },
        "outputId": "9d2030d2-d628-47c5-cc4c-98586dda570f"
      },
      "source": [
        "saved_model_path = 'sentiment_analysis_using_bert'\n",
        "classifier_model.save(saved_model_path, include_optimizer=False)"
      ],
      "execution_count": 34,
      "outputs": [
        {
          "output_type": "stream",
          "text": [
            "WARNING:absl:Found untraced functions such as restored_function_body, restored_function_body, restored_function_body, restored_function_body, restored_function_body while saving (showing 5 of 910). These functions will not be directly callable after loading.\n",
            "WARNING:absl:Found untraced functions such as restored_function_body, restored_function_body, restored_function_body, restored_function_body, restored_function_body while saving (showing 5 of 910). These functions will not be directly callable after loading.\n"
          ],
          "name": "stderr"
        }
      ]
    },
    {
      "cell_type": "code",
      "metadata": {
        "id": "ClD3RORFy7Gx"
      },
      "source": [
        "reloaded_model = tf.saved_model.load(saved_model_path)"
      ],
      "execution_count": 26,
      "outputs": []
    },
    {
      "cell_type": "code",
      "metadata": {
        "id": "EOOhyal8x7pO",
        "colab": {
          "base_uri": "https://localhost:8080/"
        },
        "outputId": "4725d4db-3a43-40e9-a628-597441f918bc"
      },
      "source": [
        "import numpy as np\n",
        "def print_my_examples(inputs, results):\n",
        "  result_for_printing = \\\n",
        "    [f'input: {inputs[i]:<30} :\\n score: {np.argmax(results[i]):.0f}'\n",
        "                         for i in range(len(inputs))]\n",
        "  print(*result_for_printing, sep='\\n')\n",
        "  print()\n",
        "\n",
        "\n",
        "examples = [\n",
        "  'At the point today where if someone says something remotely kind to me, a waterfall will burst out of my eyes',\n",
        "\t'@CorningFootball  ITS GAME DAY!!!!      T MINUS 14:30  #relentless',\n",
        "  '#Matthew 25; 1-13\\nCould somebody shoot a #video about it?\\nIt could be 1 of those #horror videos but in the same time turning many 2 #Christ',\n",
        "  '@bkero @whispersystems Which really sucks because typing on a mobile device is always horrible and I hate it.',\n",
        "  'You must be knowing #blithe means (adj.)  Happy, cheerful.',\n",
        "  'Old saying A #smile shared is one gained for another day @YEGlifer @Scott_McKeen',\n",
        "  'My 2 teens sons just left in the car to get haircuts. Im praying up a storm that they make it home safely!!',\n",
        "  'HartRamseys UPLIFT If youre still discouraged it means youre listening to the wrong voices &amp; looking to the wrong source.Look to the LORD!'\n",
        "]\n",
        "\n",
        "reloaded_results = (reloaded_model(tf.constant(examples)))\n",
        "original_results = (classifier_model(tf.constant(examples)))\n",
        "\n",
        "print('Results from the saved model:')\n",
        "print_my_examples(examples, reloaded_results)\n",
        "print('Results from the model in memory:')\n",
        "print_my_examples(examples, original_results)\n"
      ],
      "execution_count": 27,
      "outputs": [
        {
          "output_type": "stream",
          "text": [
            "Results from the saved model:\n",
            "input: At the point today where if someone says something remotely kind to me, a waterfall will burst out of my eyes :\n",
            " score: 1\n",
            "input: @CorningFootball  ITS GAME DAY!!!!      T MINUS 14:30  #relentless :\n",
            " score: 0\n",
            "input: #Matthew 25; 1-13\n",
            "Could somebody shoot a #video about it?\n",
            "It could be 1 of those #horror videos but in the same time turning many 2 #Christ :\n",
            " score: 2\n",
            "input: @bkero @whispersystems Which really sucks because typing on a mobile device is always horrible and I hate it. :\n",
            " score: 2\n",
            "input: You must be knowing #blithe means (adj.)  Happy, cheerful. :\n",
            " score: 3\n",
            "input: Old saying A #smile shared is one gained for another day @YEGlifer @Scott_McKeen :\n",
            " score: 3\n",
            "input: My 2 teens sons just left in the car to get haircuts. Im praying up a storm that they make it home safely!! :\n",
            " score: 0\n",
            "input: HartRamseys UPLIFT If youre still discouraged it means youre listening to the wrong voices &amp; looking to the wrong source.Look to the LORD! :\n",
            " score: 4\n",
            "\n",
            "Results from the model in memory:\n",
            "input: At the point today where if someone says something remotely kind to me, a waterfall will burst out of my eyes :\n",
            " score: 1\n",
            "input: @CorningFootball  ITS GAME DAY!!!!      T MINUS 14:30  #relentless :\n",
            " score: 0\n",
            "input: #Matthew 25; 1-13\n",
            "Could somebody shoot a #video about it?\n",
            "It could be 1 of those #horror videos but in the same time turning many 2 #Christ :\n",
            " score: 2\n",
            "input: @bkero @whispersystems Which really sucks because typing on a mobile device is always horrible and I hate it. :\n",
            " score: 2\n",
            "input: You must be knowing #blithe means (adj.)  Happy, cheerful. :\n",
            " score: 3\n",
            "input: Old saying A #smile shared is one gained for another day @YEGlifer @Scott_McKeen :\n",
            " score: 3\n",
            "input: My 2 teens sons just left in the car to get haircuts. Im praying up a storm that they make it home safely!! :\n",
            " score: 0\n",
            "input: HartRamseys UPLIFT If youre still discouraged it means youre listening to the wrong voices &amp; looking to the wrong source.Look to the LORD! :\n",
            " score: 4\n",
            "\n"
          ],
          "name": "stdout"
        }
      ]
    }
  ]
}